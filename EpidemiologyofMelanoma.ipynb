{
  "nbformat": 4,
  "nbformat_minor": 0,
  "metadata": {
    "colab": {
      "name": "EpidemiologyofMelanoma.ipynb",
      "provenance": [],
      "collapsed_sections": [],
      "authorship_tag": "ABX9TyPpGY++Y6ndaGJTlqlgLPkz"
    },
    "kernelspec": {
      "name": "python3",
      "display_name": "Python 3"
    }
  },
  "cells": [
    {
      "cell_type": "code",
      "metadata": {
        "id": "jvtHCQ3HNYTv",
        "colab_type": "code",
        "colab": {}
      },
      "source": [
        "# Data source\n",
        "#https://data.gov.uk/dataset/bc207b50-8ead-48fb-a026-f9bec0764d1b/cancer-registration-epidemiology-of-melanoma-1995-2017"
      ],
      "execution_count": 0,
      "outputs": []
    },
    {
      "cell_type": "code",
      "metadata": {
        "id": "WdYCI3GJF3s5",
        "colab_type": "code",
        "outputId": "96e1fe61-1958-4da1-ab81-e38b14bee00c",
        "colab": {
          "base_uri": "https://localhost:8080/",
          "height": 34
        }
      },
      "source": [
        "## Read from GDrive\n",
        "from google.colab import drive\n",
        "drive.mount('/content/drive')"
      ],
      "execution_count": 0,
      "outputs": [
        {
          "output_type": "stream",
          "text": [
            "Drive already mounted at /content/drive; to attempt to forcibly remount, call drive.mount(\"/content/drive\", force_remount=True).\n"
          ],
          "name": "stdout"
        }
      ]
    },
    {
      "cell_type": "code",
      "metadata": {
        "id": "Tk9WIE3GF7Oj",
        "colab_type": "code",
        "outputId": "9396cea5-3a8a-4ae1-a872-3b0712cdefcd",
        "colab": {
          "base_uri": "https://localhost:8080/",
          "height": 34
        }
      },
      "source": [
        "cd \"/content/drive/My Drive/HealthData/\""
      ],
      "execution_count": 0,
      "outputs": [
        {
          "output_type": "stream",
          "text": [
            "/content/drive/My Drive/HealthData\n"
          ],
          "name": "stdout"
        }
      ]
    },
    {
      "cell_type": "code",
      "metadata": {
        "id": "6zoRS5hUIsnk",
        "colab_type": "code",
        "outputId": "5e0beff8-3070-459b-e5fe-5428cb66f22f",
        "colab": {
          "base_uri": "https://localhost:8080/",
          "height": 34
        }
      },
      "source": [
        "ls CancerReg/Data.tsv"
      ],
      "execution_count": 0,
      "outputs": [
        {
          "output_type": "stream",
          "text": [
            "CancerReg/Data.tsv\n"
          ],
          "name": "stdout"
        }
      ]
    },
    {
      "cell_type": "code",
      "metadata": {
        "id": "EnXZE5I0IPob",
        "colab_type": "code",
        "colab": {}
      },
      "source": [
        "#import chartify\n",
        "import pandas as pd\n",
        "import numpy as np\n",
        "import re\n",
        "import matplotlib\n",
        "import matplotlib.pyplot as plt\n",
        "import seaborn as sns"
      ],
      "execution_count": 0,
      "outputs": []
    },
    {
      "cell_type": "code",
      "metadata": {
        "id": "CG4ZFM8wIVXH",
        "colab_type": "code",
        "colab": {}
      },
      "source": [
        "melanoma=pd.read_table('CancerReg/Data.tsv',delimiter=\"\\t\")"
      ],
      "execution_count": 0,
      "outputs": []
    },
    {
      "cell_type": "code",
      "metadata": {
        "id": "QYTbSQWPJGf8",
        "colab_type": "code",
        "outputId": "31174c0d-b45e-4ddf-c541-6bea6140e13a",
        "colab": {
          "base_uri": "https://localhost:8080/",
          "height": 153
        }
      },
      "source": [
        "print(melanoma.head(5))"
      ],
      "execution_count": 0,
      "outputs": [
        {
          "output_type": "stream",
          "text": [
            "  BRESLOW  diag_quarter  DIAGNOSISYEAR  ... CLARKS       QUINTILE_2015  DCO\n",
            "0     NaN             4           1999  ...    NaN                   2    N\n",
            "1     NaN             4           1999  ...    NaN                   3    N\n",
            "2     NaN             4           1999  ...    NaN  1 - least deprived    N\n",
            "3     NaN             2           2007  ...    NaN                   3    N\n",
            "4     NaN             4           1999  ...    NaN                   4    N\n",
            "\n",
            "[5 rows x 24 columns]\n"
          ],
          "name": "stdout"
        }
      ]
    },
    {
      "cell_type": "code",
      "metadata": {
        "id": "2jRz0GHLIzzN",
        "colab_type": "code",
        "outputId": "4e82d353-cf8f-433f-ab29-8c0edc20556f",
        "colab": {
          "base_uri": "https://localhost:8080/",
          "height": 34
        }
      },
      "source": [
        "melanoma.shape[0] #Number of columns"
      ],
      "execution_count": 0,
      "outputs": [
        {
          "output_type": "execute_result",
          "data": {
            "text/plain": [
              "65534"
            ]
          },
          "metadata": {
            "tags": []
          },
          "execution_count": 119
        }
      ]
    },
    {
      "cell_type": "code",
      "metadata": {
        "id": "CjzeKq2SI82A",
        "colab_type": "code",
        "colab": {}
      },
      "source": [
        "# Explore missing data\n",
        "missingTotal=melanoma.T.isnull().values.sum(axis=1) \n",
        "percentMissing=[each/melanoma.shape[0] * 100 for each in missingTotal]\n",
        "percentMissing=pd.DataFrame(percentMissing,melanoma.columns)\n",
        "percentMissing=percentMissing.rename(columns={0:\"pcntMissing\"})"
      ],
      "execution_count": 0,
      "outputs": []
    },
    {
      "cell_type": "markdown",
      "metadata": {
        "id": "CQ3-KO6fJX6Z",
        "colab_type": "text"
      },
      "source": [
        "How much is actually usable"
      ]
    },
    {
      "cell_type": "code",
      "metadata": {
        "id": "ACah5bjSK960",
        "colab_type": "code",
        "outputId": "b779d54a-7b09-4689-8c4f-d136e7bc8da3",
        "colab": {
          "base_uri": "https://localhost:8080/",
          "height": 727
        }
      },
      "source": [
        "print(percentMissing)\n",
        "sns.set(style=\"whitegrid\")\n",
        "sns.barplot(x=\"pcntMissing\", y=\"index\",data=percentMissing.reset_index(),color=\"skyblue\")"
      ],
      "execution_count": 0,
      "outputs": [
        {
          "output_type": "stream",
          "text": [
            "                      pcntMissing\n",
            "BRESLOW                 37.150182\n",
            "diag_quarter             0.000000\n",
            "DIAGNOSISYEAR            0.000000\n",
            "ethnicity_band           0.000000\n",
            "age_group                0.000000\n",
            "HISTOLOGY_CODED          0.001526\n",
            "HISTOLOGY_CODED_DESC     0.534074\n",
            "SEX                      0.000000\n",
            "SITE_ICD10_O2            0.000000\n",
            "SITE_CODED_DESC          0.000000\n",
            "T_IMG                   99.977111\n",
            "N_IMG                   99.806207\n",
            "M_IMG                   99.572741\n",
            "CREG_CODE                0.000000\n",
            "CREG_NAME                0.000000\n",
            "BASISOFDIAGNOSIS         0.000000\n",
            "MORPH_ICD10_O2           0.001526\n",
            "BEHAVIOUR_ICD10_O2       0.001526\n",
            "STAGE_BEST              52.748192\n",
            "STAGE_PATH              98.400830\n",
            "GRADE                    0.009156\n",
            "CLARKS                  48.426771\n",
            "QUINTILE_2015            0.000000\n",
            "DCO                      0.000000\n"
          ],
          "name": "stdout"
        },
        {
          "output_type": "execute_result",
          "data": {
            "text/plain": [
              "<matplotlib.axes._subplots.AxesSubplot at 0x7f44ac44eef0>"
            ]
          },
          "metadata": {
            "tags": []
          },
          "execution_count": 122
        },
        {
          "output_type": "display_data",
          "data": {
            "image/png": "[encoded data removed]",
            "text/plain": [
              "<Figure size 432x288 with 1 Axes>"
            ]
          },
          "metadata": {
            "tags": []
          }
        }
      ]
    },
    {
      "cell_type": "markdown",
      "metadata": {
        "id": "ImYoDbCns9nM",
        "colab_type": "text"
      },
      "source": [
        "* BRESLOW, (Breslow thickness of tumour, Measured in millimetres to the nearest 0.01mm. Can be a number or range, x, or blank (e.g. ≤1mm, 1-2mm) \n",
        "* diag_quarter (diagnosis quarter is based on the calendar year) \n",
        "* DIAGNOSISYEAR, (year of diagnosis, 1995-2017) \n",
        "* ethnicity_band (aggregated in 3 categories: White; Non-White and Unknown) \n",
        "* age_group (aggregated in 3 categories: <45; 45-69 and 70+) \n",
        "* HISTOLOGY_CODED, (histology code - combines the morphology and behaviour codes)\n",
        "* HISTOLOGY_CODED_DESC, (name for the histology type) \n",
        "* SEX, (coded as 1=Male and 2=Female) \n",
        "* SITE_ICD10_O2, (valid 4-digit code, coded in accordance with classification system of The International Classification of Diseases for Oncology) (C430-C439) \n",
        "* SITE_CODED_DESC, (Site code of the cancer, in the coding system that the tumour was originally coded in and text description) \n",
        "* T_IMG, (The UICC code which classifies the size and extent of the primary tumour before treatment) \n",
        "* N_IMG, (The UICC code which classifies the absence or presence and extent of regional lymph node metastases before treatment. +, 0, 1, 1a, 1b, 1c, 1mi, 2, 2a, 2b, 2c, 3, 3a, 3b, 3c, X)\n",
        "* M_IMG, The UICC code which classifies the absence or presence of distant metastases pre-treatment. 0 = no distant metastasis. 1, 1a, 1b, 1c, 1e = distant metastasis. X = unknown)\n",
        "* CREG_CODE, (Cancer registry catchment area code (at diagnosis) Y0201 = Northern and Yorkshire Cancer Registry and Information Service; Y0301 = Trent Cancer Registry; Y0401 = Eastern Cancer Registration and Information Centre; Y0801 = Thames Cancer Registry; Y0901 = Oxford Cancer Intelligence Unit; Y1001 = South West Cancer Intelligence Service; Y1101 = Welsh Cancer Intelligence and Surveillance Unit; Y1201 = West Midlands Cancer Intelligence Unit; Y1701 = North West Cancer Intelligence Service; Z9999 = null.\n",
        "* CREG_NAME, Cancer registry catchment area name (at diagnosis) See above for coding. \n",
        "* BASISOFDIAGNOSIS, Basis of diagnosis of the tumour according to all the data received by the registry. Non-microscopic: 0 = Death certificate; 1 = Clinical: Diagnosis made before death without (2-7); 2 = Clinical investigation: Includes all diagnostic techniques without a tissue diagnosis; 4 = Specific tumour markers: Includes biochemical and/or immunological markers which are site specific. \n",
        "Microscopic: 5 = Cytology: Examination of cells whether from a primary or secondary site, including fluids aspirated using endoscopes or needles. Also including microscopic examination of peripheral blood films and trephine bone marrow aspirates; 6 = Histology of a metastases: Includes autopsy specimens; 7 = Histology of a primary tumour: Includes all cutting and bone marrow biopsies. Also includes autopsy specimens of a primary tumour; 9 = Unknown, e.g. PAS or HISS record only. \n",
        "* MORPH_ICD10_O2, (Morphology of the cancer, in the ICD-10-O2 system)\n",
        "* BEHAVIOUR_ICD10_O2 Behaviour of the cancer, in the ICD-10-O2 system\n",
        "* STAGE_BEST, (where stage 1 is coded as 1, 1A, 1A2, 1B, 1C, 1E, 1S; stage 2 is coded as 2, 2A, 2A1, 2B, 2E, 2S; stage 3 is coded as 3, 3A, 3B, 3C, 3E, 3S; stage 4 is coded as 4, 4A, 4B, 4C, 4S; unknown or cannot be stage is coded as 4, 4A, 4B, 4C, 4S; unknown or cannot be staged as 0, 6, ?, U, X, blank)\n",
        "* STAGE_PATH, (where stage 1 is coded as 1, 1A, 1B, 1E; stage 2 is coded as 2, 2A, 2B, 2E; stage 3 is coded as 3, 3A, 3B; stage 4 is coded as 4, 4A, 4B; unknown or cannot be staged as 0, 6, ?, X, blank) \n",
        "* GRADE, (Grade of tumour, coded as 3, 4, G1, G2, G3, G4, G5, G6, G7, GX, Unknown or blank)\n",
        "* CLARKS, (Clark's stage for skin cancer) 1 = melanoma in situ: melanoma cells are only in the epidermis; 2 = melanoma cells in the papillary dermis; 3 = melanoma cells throughout papillary dermis and touching reticula; 4 = melanoma has spread into the reticular or deep dermis; 5 = melanoma has grown into the subcutaneous fat. \n",
        "* QUINTILE_2015, (Quintile score [1-5], describing income deprivation where 1= least deprived to 5= most deprived) \n",
        "* DCO (Diagnosis of death certificate only coded as N=No, Y=Yes, blank)"
      ]
    },
    {
      "cell_type": "code",
      "metadata": {
        "id": "eduVepkzLIMk",
        "colab_type": "code",
        "colab": {}
      },
      "source": [
        ""
      ],
      "execution_count": 0,
      "outputs": []
    },
    {
      "cell_type": "markdown",
      "metadata": {
        "id": "g9Lwxsh_vYxX",
        "colab_type": "text"
      },
      "source": [
        "\n",
        "Filter out DCO? Only  one has DCO ([no cause of death registered](https://www.encr.eu/sites/default/files/2018-ENCR-Conference/Brenn%20Jerm_DCN%2C%20DCI%20and%20DCO%20in%20the%20CRN.pdf))\n",
        "\n",
        "#### Predictors\n",
        "* Breslow depth: Melanome size (low to highest size in mm)\n",
        "* Quintile_2015: 1 - 5 (low to highest income deprived)\n",
        "* Sex\n",
        "* ethnicity_band (white, non-white, unkown)\n",
        "* age_group (3 bins)\n",
        "* HISTOLOGY_CODED [code](https://www.dhs.wisconsin.gov/wcrs/reporterinfo/icd-o-3-histology-text.pdf)+[behaviour](https://seer.cancer.gov/behavrecode/)\n",
        "* SITE_ICD10_O2 - Code according to The International Classification of Diseases for Oncology\n",
        "* MORPH_ICD10_O2 - Morphology of cancer\n",
        "* BEHAVIOUR_ICD10_O2 - Behaviour\n",
        "* STAGE_BEST\n",
        "* STAGE_PATH\n",
        "* GRADE\n",
        "\n",
        "#### Label:\n",
        "* CLARKS \n",
        "\n",
        "##### ?\n",
        "* Year of diagnosis may influence?\n",
        "* CREG_CODE - Cancer registry catchment area code (geographical location)\n",
        "* BASISOFDIAGNOSIS - how was the melanoma identified\n",
        "* DCO -  Death Certificate Only\n",
        "\n",
        "#### No\n",
        "* diag_quarter (when in the year was it diagnosed)\n",
        "* HISTOLOGY_CODED_DESC (redundant with HISTOLOGY_CODED)\n",
        "* SITE_CODED_DESC (Redundant with SITE_ICD10_O2)\n",
        "* T_IMG - mostly empty\n",
        "* N_IMG - mostly empty\n",
        "* M_IMG - mostly empty\n",
        "* CREG_NAME (Redundant with CREG_CODE)\n",
        "\n",
        "\n"
      ]
    },
    {
      "cell_type": "markdown",
      "metadata": {
        "id": "1WwFAMVrOqEj",
        "colab_type": "text"
      },
      "source": [
        "#### Clean data\n"
      ]
    },
    {
      "cell_type": "code",
      "metadata": {
        "id": "tGMbtRFnVayI",
        "colab_type": "code",
        "colab": {}
      },
      "source": [
        "keepThis = list(melanoma[[\"BRESLOW\",\"CLARKS\"]].isnull().sum(1) == 0)\n",
        "melanoma_clean = melanoma[keepThis]\n",
        "melanoma_clean = melanoma_clean[melanoma_clean.BRESLOW != \"x\"]\n",
        "melanoma_clean = melanoma_clean[melanoma_clean.BRESLOW != \"203\"]\n",
        "melanoma_clean = melanoma_clean[melanoma_clean.BRESLOW != \"202\"]"
      ],
      "execution_count": 0,
      "outputs": []
    },
    {
      "cell_type": "code",
      "metadata": {
        "id": "ImMAqPCgWaj9",
        "colab_type": "code",
        "outputId": "594f3154-c8b0-4272-c711-b68947066398",
        "colab": {
          "base_uri": "https://localhost:8080/",
          "height": 136
        }
      },
      "source": [
        "melanoma_clean.columns"
      ],
      "execution_count": 0,
      "outputs": [
        {
          "output_type": "execute_result",
          "data": {
            "text/plain": [
              "Index(['BRESLOW', 'diag_quarter', 'DIAGNOSISYEAR', 'ethnicity_band',\n",
              "       'age_group', 'HISTOLOGY_CODED', 'HISTOLOGY_CODED_DESC', 'SEX',\n",
              "       'SITE_ICD10_O2', 'SITE_CODED_DESC', 'T_IMG', 'N_IMG', 'M_IMG',\n",
              "       'CREG_CODE', 'CREG_NAME', 'BASISOFDIAGNOSIS', 'MORPH_ICD10_O2',\n",
              "       'BEHAVIOUR_ICD10_O2', 'STAGE_BEST', 'STAGE_PATH', 'GRADE', 'CLARKS',\n",
              "       'QUINTILE_2015', 'DCO'],\n",
              "      dtype='object')"
            ]
          },
          "metadata": {
            "tags": []
          },
          "execution_count": 124
        }
      ]
    },
    {
      "cell_type": "markdown",
      "metadata": {
        "id": "x3zK801cX5rn",
        "colab_type": "text"
      },
      "source": [
        ""
      ]
    },
    {
      "cell_type": "code",
      "metadata": {
        "id": "8reShzdMbWw_",
        "colab_type": "code",
        "colab": {}
      },
      "source": [
        "#https://www.verywellhealth.com/clark-level-and-breslow-thickness-for-melanoma-staging-3010751"
      ],
      "execution_count": 0,
      "outputs": []
    },
    {
      "cell_type": "code",
      "metadata": {
        "id": "EDwNaQ3-k2ZW",
        "colab_type": "code",
        "outputId": "9ff69b57-3ddd-4351-c1d9-f9d270483cf8",
        "colab": {
          "base_uri": "https://localhost:8080/",
          "height": 34
        }
      },
      "source": [
        "melanoma_clean.shape"
      ],
      "execution_count": 0,
      "outputs": [
        {
          "output_type": "execute_result",
          "data": {
            "text/plain": [
              "(31944, 24)"
            ]
          },
          "metadata": {
            "tags": []
          },
          "execution_count": 15
        }
      ]
    },
    {
      "cell_type": "code",
      "metadata": {
        "id": "bk6oWFmlltx0",
        "colab_type": "code",
        "colab": {}
      },
      "source": [
        "### The BRESLOW column has mixed numbers and ranges, fix this. \n",
        "greatthanVals =  [True if re.search('>', bres) else False for bres in melanoma_clean.BRESLOW] # Get all that have a gt or lt values\n",
        "lessthanVals =  [True if re.search('<', bres) else False for bres in melanoma_clean.BRESLOW]\n",
        "rangeVals =  [True if re.search('-', bres) else False for bres in melanoma_clean.BRESLOW] # Get all ranged values"
      ],
      "execution_count": 0,
      "outputs": []
    },
    {
      "cell_type": "code",
      "metadata": {
        "id": "Kqmh1D9MqE4r",
        "colab_type": "code",
        "colab": {}
      },
      "source": [
        ""
      ],
      "execution_count": 0,
      "outputs": []
    },
    {
      "cell_type": "code",
      "metadata": {
        "id": "s8oJGUDRrbLq",
        "colab_type": "code",
        "colab": {}
      },
      "source": [
        "cleanRanged = [np.mean([float(each) for each in each.split('-') ]) for each in melanoma_clean.BRESLOW[rangeVals]] #Take mean of ranges\n",
        "cleangreatThan = [float(each.replace(\">\",\"\")) + 0.0001 for each in melanoma_clean.BRESLOW[greatthanVals]] #Make value slightly larger\n",
        "cleanlessThan = [float(each.replace(\"<\",\"\")) - 0.0001 for each in melanoma_clean.BRESLOW[lessthanVals]] #Make value slightly smaller"
      ],
      "execution_count": 0,
      "outputs": []
    },
    {
      "cell_type": "code",
      "metadata": {
        "id": "SWu5AaKgtjVh",
        "colab_type": "code",
        "outputId": "e98b4ca1-4c7f-4417-d44f-59b010ebe798",
        "colab": {
          "base_uri": "https://localhost:8080/",
          "height": 187
        }
      },
      "source": [
        "melanoma_clean.BRESLOW[greatthanVals] = cleangreatThan\n",
        "melanoma_clean.BRESLOW[lessthanVals] = cleanlessThan\n",
        "melanoma_clean.BRESLOW[rangeVals] = cleanRanged"
      ],
      "execution_count": 0,
      "outputs": [
        {
          "output_type": "stream",
          "text": [
            "/usr/local/lib/python3.6/dist-packages/ipykernel_launcher.py:2: SettingWithCopyWarning: \n",
            "A value is trying to be set on a copy of a slice from a DataFrame\n",
            "\n",
            "See the caveats in the documentation: https://pandas.pydata.org/pandas-docs/stable/user_guide/indexing.html#returning-a-view-versus-a-copy\n",
            "  \n",
            "/usr/local/lib/python3.6/dist-packages/ipykernel_launcher.py:3: SettingWithCopyWarning: \n",
            "A value is trying to be set on a copy of a slice from a DataFrame\n",
            "\n",
            "See the caveats in the documentation: https://pandas.pydata.org/pandas-docs/stable/user_guide/indexing.html#returning-a-view-versus-a-copy\n",
            "  This is separate from the ipykernel package so we can avoid doing imports until\n"
          ],
          "name": "stderr"
        }
      ]
    },
    {
      "cell_type": "code",
      "metadata": {
        "id": "MbXBfxdbtSPJ",
        "colab_type": "code",
        "colab": {}
      },
      "source": [
        "melanoma_clean.BRESLOW = melanoma_clean.BRESLOW.astype('float')"
      ],
      "execution_count": 0,
      "outputs": []
    },
    {
      "cell_type": "code",
      "metadata": {
        "id": "CjfHVSBk6TNe",
        "colab_type": "code",
        "colab": {}
      },
      "source": [
        "melanoma_clean = melanoma_clean[melanoma_clean.BRESLOW < 9]"
      ],
      "execution_count": 0,
      "outputs": []
    },
    {
      "cell_type": "code",
      "metadata": {
        "id": "QsBO9gRT7f1q",
        "colab_type": "code",
        "outputId": "00062fd8-419c-4bff-9290-4e073fa03ae0",
        "colab": {
          "base_uri": "https://localhost:8080/",
          "height": 297
        }
      },
      "source": [
        "melanoma_clean.describe()"
      ],
      "execution_count": 0,
      "outputs": [
        {
          "output_type": "execute_result",
          "data": {
            "text/html": [
              "<div>\n",
              "<style scoped>\n",
              "    .dataframe tbody tr th:only-of-type {\n",
              "        vertical-align: middle;\n",
              "    }\n",
              "\n",
              "    .dataframe tbody tr th {\n",
              "        vertical-align: top;\n",
              "    }\n",
              "\n",
              "    .dataframe thead th {\n",
              "        text-align: right;\n",
              "    }\n",
              "</style>\n",
              "<table border=\"1\" class=\"dataframe\">\n",
              "  <thead>\n",
              "    <tr style=\"text-align: right;\">\n",
              "      <th></th>\n",
              "      <th>BRESLOW</th>\n",
              "      <th>diag_quarter</th>\n",
              "      <th>DIAGNOSISYEAR</th>\n",
              "      <th>HISTOLOGY_CODED</th>\n",
              "      <th>SEX</th>\n",
              "      <th>BASISOFDIAGNOSIS</th>\n",
              "      <th>MORPH_ICD10_O2</th>\n",
              "      <th>BEHAVIOUR_ICD10_O2</th>\n",
              "      <th>CLARKS</th>\n",
              "    </tr>\n",
              "  </thead>\n",
              "  <tbody>\n",
              "    <tr>\n",
              "      <th>count</th>\n",
              "      <td>30844.00000</td>\n",
              "      <td>30844.000000</td>\n",
              "      <td>30844.000000</td>\n",
              "      <td>30844.000000</td>\n",
              "      <td>30844.000000</td>\n",
              "      <td>30844.000000</td>\n",
              "      <td>30844.000000</td>\n",
              "      <td>30844.000000</td>\n",
              "      <td>30844.000000</td>\n",
              "    </tr>\n",
              "    <tr>\n",
              "      <th>mean</th>\n",
              "      <td>1.67722</td>\n",
              "      <td>2.525840</td>\n",
              "      <td>2006.337051</td>\n",
              "      <td>87354.442161</td>\n",
              "      <td>1.551452</td>\n",
              "      <td>6.996369</td>\n",
              "      <td>8735.141713</td>\n",
              "      <td>3.003631</td>\n",
              "      <td>3.114512</td>\n",
              "    </tr>\n",
              "    <tr>\n",
              "      <th>std</th>\n",
              "      <td>1.66876</td>\n",
              "      <td>1.080737</td>\n",
              "      <td>4.356135</td>\n",
              "      <td>129.265804</td>\n",
              "      <td>0.497354</td>\n",
              "      <td>0.169640</td>\n",
              "      <td>12.927173</td>\n",
              "      <td>0.089597</td>\n",
              "      <td>0.906832</td>\n",
              "    </tr>\n",
              "    <tr>\n",
              "      <th>min</th>\n",
              "      <td>0.00000</td>\n",
              "      <td>1.000000</td>\n",
              "      <td>1995.000000</td>\n",
              "      <td>80323.000000</td>\n",
              "      <td>1.000000</td>\n",
              "      <td>1.000000</td>\n",
              "      <td>8032.000000</td>\n",
              "      <td>3.000000</td>\n",
              "      <td>1.000000</td>\n",
              "    </tr>\n",
              "    <tr>\n",
              "      <th>25%</th>\n",
              "      <td>0.60000</td>\n",
              "      <td>2.000000</td>\n",
              "      <td>2004.000000</td>\n",
              "      <td>87213.000000</td>\n",
              "      <td>1.000000</td>\n",
              "      <td>7.000000</td>\n",
              "      <td>8721.000000</td>\n",
              "      <td>3.000000</td>\n",
              "      <td>2.000000</td>\n",
              "    </tr>\n",
              "    <tr>\n",
              "      <th>50%</th>\n",
              "      <td>1.00000</td>\n",
              "      <td>3.000000</td>\n",
              "      <td>2007.000000</td>\n",
              "      <td>87433.000000</td>\n",
              "      <td>2.000000</td>\n",
              "      <td>7.000000</td>\n",
              "      <td>8743.000000</td>\n",
              "      <td>3.000000</td>\n",
              "      <td>3.000000</td>\n",
              "    </tr>\n",
              "    <tr>\n",
              "      <th>75%</th>\n",
              "      <td>2.00000</td>\n",
              "      <td>3.000000</td>\n",
              "      <td>2010.000000</td>\n",
              "      <td>87433.000000</td>\n",
              "      <td>2.000000</td>\n",
              "      <td>7.000000</td>\n",
              "      <td>8743.000000</td>\n",
              "      <td>3.000000</td>\n",
              "      <td>4.000000</td>\n",
              "    </tr>\n",
              "    <tr>\n",
              "      <th>max</th>\n",
              "      <td>8.90000</td>\n",
              "      <td>4.000000</td>\n",
              "      <td>2013.000000</td>\n",
              "      <td>87803.000000</td>\n",
              "      <td>2.000000</td>\n",
              "      <td>9.000000</td>\n",
              "      <td>8780.000000</td>\n",
              "      <td>9.000000</td>\n",
              "      <td>5.000000</td>\n",
              "    </tr>\n",
              "  </tbody>\n",
              "</table>\n",
              "</div>"
            ],
            "text/plain": [
              "           BRESLOW  diag_quarter  ...  BEHAVIOUR_ICD10_O2        CLARKS\n",
              "count  30844.00000  30844.000000  ...        30844.000000  30844.000000\n",
              "mean       1.67722      2.525840  ...            3.003631      3.114512\n",
              "std        1.66876      1.080737  ...            0.089597      0.906832\n",
              "min        0.00000      1.000000  ...            3.000000      1.000000\n",
              "25%        0.60000      2.000000  ...            3.000000      2.000000\n",
              "50%        1.00000      3.000000  ...            3.000000      3.000000\n",
              "75%        2.00000      3.000000  ...            3.000000      4.000000\n",
              "max        8.90000      4.000000  ...            9.000000      5.000000\n",
              "\n",
              "[8 rows x 9 columns]"
            ]
          },
          "metadata": {
            "tags": []
          },
          "execution_count": 130
        }
      ]
    },
    {
      "cell_type": "code",
      "metadata": {
        "id": "Re2XMbHct54H",
        "colab_type": "code",
        "outputId": "333e59b4-b540-43c9-9702-751bc3d7a377",
        "colab": {
          "base_uri": "https://localhost:8080/",
          "height": 293
        }
      },
      "source": [
        "ax1 = plt.subplot(211)\n",
        "ax1.set_title('Breslow')\n",
        "ax1.set_ylabel('Freq')\n",
        "ax1.set_xlabel('mm')\n",
        "\n",
        "ax2 = plt.subplot(212)\n",
        "ax2.set_title('Stage')\n",
        "ax2.set_ylabel('Frequency')\n",
        "ax2.set_xlabel('B')\n",
        "\n",
        "ax1.hist(melanoma_clean['BRESLOW'])\n",
        "ax2.hist(melanoma_clean['CLARKS'])\n",
        "\n",
        "plt.tight_layout()\n",
        "plt.show()"
      ],
      "execution_count": 0,
      "outputs": [
        {
          "output_type": "display_data",
          "data": {
            "image/png": "[encoded data removed]",
            "text/plain": [
              "<Figure size 432x288 with 2 Axes>"
            ]
          },
          "metadata": {
            "tags": []
          }
        }
      ]
    },
    {
      "cell_type": "code",
      "metadata": {
        "id": "qMx8G0Cr3wez",
        "colab_type": "code",
        "colab": {}
      },
      "source": [
        "cut_labels = ['BDI', 'BDII', 'BDIII','BDIV']\n",
        "cut_bins = [0, 1, 2,4,melanoma_clean['BRESLOW'].max()]\n",
        "melanoma_clean['BDbins'] = pd.cut(melanoma_clean['BRESLOW'], bins=cut_bins, labels=cut_labels)"
      ],
      "execution_count": 0,
      "outputs": []
    },
    {
      "cell_type": "code",
      "metadata": {
        "id": "_R3281tlmzcu",
        "colab_type": "code",
        "outputId": "7867a0a3-67c1-4496-c2dd-9023c6092497",
        "colab": {
          "base_uri": "https://localhost:8080/",
          "height": 302
        }
      },
      "source": [
        "tmpDat = melanoma_clean.BDbins.value_counts().reset_index()\n",
        "sns.set(style=\"whitegrid\")\n",
        "sns.barplot(x=\"BDbins\", y=\"index\",data=tmpDat,color=\"skyblue\")"
      ],
      "execution_count": 0,
      "outputs": [
        {
          "output_type": "execute_result",
          "data": {
            "text/plain": [
              "<matplotlib.axes._subplots.AxesSubplot at 0x7f44a95610b8>"
            ]
          },
          "metadata": {
            "tags": []
          },
          "execution_count": 133
        },
        {
          "output_type": "display_data",
          "data": {
            "image/png": "[encoded data removed]",
            "text/plain": [
              "<Figure size 432x288 with 1 Axes>"
            ]
          },
          "metadata": {
            "tags": []
          }
        }
      ]
    },
    {
      "cell_type": "code",
      "metadata": {
        "id": "lzoU6Fgtn9bH",
        "colab_type": "code",
        "outputId": "e2d2651a-4478-45d7-db52-092d23fbd563",
        "colab": {
          "base_uri": "https://localhost:8080/",
          "height": 302
        }
      },
      "source": [
        "tmpDat = melanoma_clean.CLARKS.value_counts().reset_index()\n",
        "tmpDat\n",
        "sns.set(style=\"whitegrid\")\n",
        "sns.barplot(x=\"CLARKS\", y=\"index\",data=tmpDat,color=\"skyblue\",orient=\"h\")"
      ],
      "execution_count": 0,
      "outputs": [
        {
          "output_type": "execute_result",
          "data": {
            "text/plain": [
              "<matplotlib.axes._subplots.AxesSubplot at 0x7f44abf946d8>"
            ]
          },
          "metadata": {
            "tags": []
          },
          "execution_count": 134
        },
        {
          "output_type": "display_data",
          "data": {
            "image/png": "[encoded data removed]",
            "text/plain": [
              "<Figure size 432x288 with 1 Axes>"
            ]
          },
          "metadata": {
            "tags": []
          }
        }
      ]
    },
    {
      "cell_type": "code",
      "metadata": {
        "id": "zNba0gcQoOIe",
        "colab_type": "code",
        "outputId": "4d94781d-8aae-481c-c918-52b6c7b15519",
        "colab": {
          "base_uri": "https://localhost:8080/",
          "height": 102
        }
      },
      "source": [
        "#'STAGE_BEST','STAGE_PATH' not used:\n",
        "# 21566 and 30083 missing values respectively\n",
        "usefulCols=['BRESLOW','ethnicity_band','age_group','HISTOLOGY_CODED','SEX','SITE_ICD10_O2','MORPH_ICD10_O2','BEHAVIOUR_ICD10_O2','GRADE','QUINTILE_2015','CLARKS']\n",
        "melanoma_clean_ml = melanoma_clean[usefulCols]\n",
        "print(melanoma_clean_ml.shape)\n",
        "melanoma_clean_ml.columns"
      ],
      "execution_count": 0,
      "outputs": [
        {
          "output_type": "stream",
          "text": [
            "(30844, 11)\n"
          ],
          "name": "stdout"
        },
        {
          "output_type": "execute_result",
          "data": {
            "text/plain": [
              "Index(['BRESLOW', 'ethnicity_band', 'age_group', 'HISTOLOGY_CODED', 'SEX',\n",
              "       'SITE_ICD10_O2', 'MORPH_ICD10_O2', 'BEHAVIOUR_ICD10_O2', 'GRADE',\n",
              "       'QUINTILE_2015', 'CLARKS'],\n",
              "      dtype='object')"
            ]
          },
          "metadata": {
            "tags": []
          },
          "execution_count": 202
        }
      ]
    },
    {
      "cell_type": "code",
      "metadata": {
        "id": "dHsKWCqnp7Ed",
        "colab_type": "code",
        "outputId": "23807578-2eb9-4194-d839-59219d7bb4af",
        "colab": {
          "base_uri": "https://localhost:8080/",
          "height": 34
        }
      },
      "source": [
        "melanoma_clean_ml.T.isnull().values.sum(axis=1) "
      ],
      "execution_count": 0,
      "outputs": [
        {
          "output_type": "execute_result",
          "data": {
            "text/plain": [
              "array([0, 0, 0, 0, 0, 0, 0, 0, 2, 0, 0])"
            ]
          },
          "metadata": {
            "tags": []
          },
          "execution_count": 137
        }
      ]
    },
    {
      "cell_type": "code",
      "metadata": {
        "id": "pdHwJ3z4Cw9A",
        "colab_type": "code",
        "outputId": "709af9d8-d654-44c8-b872-153fc3cbe405",
        "colab": {
          "base_uri": "https://localhost:8080/",
          "height": 34
        }
      },
      "source": [
        "melanoma_clean_ml_input=melanoma_clean_ml[melanoma_clean_ml.GRADE.notnull()]\n",
        "melanoma_clean_ml_input.shape"
      ],
      "execution_count": 0,
      "outputs": [
        {
          "output_type": "execute_result",
          "data": {
            "text/plain": [
              "(30842, 11)"
            ]
          },
          "metadata": {
            "tags": []
          },
          "execution_count": 178
        }
      ]
    },
    {
      "cell_type": "code",
      "metadata": {
        "id": "VZxxjEmuNpEe",
        "colab_type": "code",
        "outputId": "240b326a-8531-438f-9ffb-c9a577d39b43",
        "colab": {
          "base_uri": "https://localhost:8080/",
          "height": 204
        }
      },
      "source": [
        "melanoma_clean_ml_input.head()"
      ],
      "execution_count": 0,
      "outputs": [
        {
          "output_type": "execute_result",
          "data": {
            "text/html": [
              "<div>\n",
              "<style scoped>\n",
              "    .dataframe tbody tr th:only-of-type {\n",
              "        vertical-align: middle;\n",
              "    }\n",
              "\n",
              "    .dataframe tbody tr th {\n",
              "        vertical-align: top;\n",
              "    }\n",
              "\n",
              "    .dataframe thead th {\n",
              "        text-align: right;\n",
              "    }\n",
              "</style>\n",
              "<table border=\"1\" class=\"dataframe\">\n",
              "  <thead>\n",
              "    <tr style=\"text-align: right;\">\n",
              "      <th></th>\n",
              "      <th>BRESLOW</th>\n",
              "      <th>ethnicity_band</th>\n",
              "      <th>age_group</th>\n",
              "      <th>HISTOLOGY_CODED</th>\n",
              "      <th>SEX</th>\n",
              "      <th>SITE_ICD10_O2</th>\n",
              "      <th>MORPH_ICD10_O2</th>\n",
              "      <th>BEHAVIOUR_ICD10_O2</th>\n",
              "      <th>GRADE</th>\n",
              "      <th>QUINTILE_2015</th>\n",
              "      <th>CLARKS</th>\n",
              "    </tr>\n",
              "  </thead>\n",
              "  <tbody>\n",
              "    <tr>\n",
              "      <th>5</th>\n",
              "      <td>2.70</td>\n",
              "      <td>White</td>\n",
              "      <td>70+</td>\n",
              "      <td>87203.0</td>\n",
              "      <td>1</td>\n",
              "      <td>C432</td>\n",
              "      <td>8720.0</td>\n",
              "      <td>3.0</td>\n",
              "      <td>GX</td>\n",
              "      <td>5 - most deprived</td>\n",
              "      <td>4.0</td>\n",
              "    </tr>\n",
              "    <tr>\n",
              "      <th>10</th>\n",
              "      <td>0.80</td>\n",
              "      <td>White</td>\n",
              "      <td>45-69</td>\n",
              "      <td>87433.0</td>\n",
              "      <td>1</td>\n",
              "      <td>C435</td>\n",
              "      <td>8743.0</td>\n",
              "      <td>3.0</td>\n",
              "      <td>GX</td>\n",
              "      <td>3</td>\n",
              "      <td>3.0</td>\n",
              "    </tr>\n",
              "    <tr>\n",
              "      <th>11</th>\n",
              "      <td>1.30</td>\n",
              "      <td>Non-White</td>\n",
              "      <td>45-69</td>\n",
              "      <td>87433.0</td>\n",
              "      <td>1</td>\n",
              "      <td>C435</td>\n",
              "      <td>8743.0</td>\n",
              "      <td>3.0</td>\n",
              "      <td>GX</td>\n",
              "      <td>1 - least deprived</td>\n",
              "      <td>4.0</td>\n",
              "    </tr>\n",
              "    <tr>\n",
              "      <th>14</th>\n",
              "      <td>0.95</td>\n",
              "      <td>Non-White</td>\n",
              "      <td>70+</td>\n",
              "      <td>87433.0</td>\n",
              "      <td>1</td>\n",
              "      <td>C435</td>\n",
              "      <td>8743.0</td>\n",
              "      <td>3.0</td>\n",
              "      <td>GX</td>\n",
              "      <td>2</td>\n",
              "      <td>3.0</td>\n",
              "    </tr>\n",
              "    <tr>\n",
              "      <th>15</th>\n",
              "      <td>2.10</td>\n",
              "      <td>White</td>\n",
              "      <td>&lt;45</td>\n",
              "      <td>87213.0</td>\n",
              "      <td>2</td>\n",
              "      <td>C435</td>\n",
              "      <td>8721.0</td>\n",
              "      <td>3.0</td>\n",
              "      <td>GX</td>\n",
              "      <td>2</td>\n",
              "      <td>4.0</td>\n",
              "    </tr>\n",
              "  </tbody>\n",
              "</table>\n",
              "</div>"
            ],
            "text/plain": [
              "    BRESLOW ethnicity_band age_group  ...  GRADE       QUINTILE_2015 CLARKS\n",
              "5      2.70          White       70+  ...     GX   5 - most deprived    4.0\n",
              "10     0.80          White     45-69  ...     GX                   3    3.0\n",
              "11     1.30      Non-White     45-69  ...     GX  1 - least deprived    4.0\n",
              "14     0.95      Non-White       70+  ...     GX                   2    3.0\n",
              "15     2.10          White       <45  ...     GX                   2    4.0\n",
              "\n",
              "[5 rows x 11 columns]"
            ]
          },
          "metadata": {
            "tags": []
          },
          "execution_count": 179
        }
      ]
    },
    {
      "cell_type": "code",
      "metadata": {
        "id": "ufh1DLBNRikL",
        "colab_type": "code",
        "outputId": "c42bb71e-6fd9-4423-b191-f4ba27f15eae",
        "colab": {
          "base_uri": "https://localhost:8080/",
          "height": 187
        }
      },
      "source": [
        "replaceThis = re.compile(r' - .* deprived')\n",
        "quintText =  [True if re.search(\"deprived\", each) else False for each in melanoma_clean_ml_input.QUINTILE_2015]\n",
        "cleanQUINT = [int(re.sub(regex,\"\",each)) for each in melanoma_clean_ml_input.QUINTILE_2015[quintText]] #Make value slightly larger\n",
        "melanoma_clean_ml_input.QUINTILE_2015[quintText] = cleanQUINT"
      ],
      "execution_count": 0,
      "outputs": [
        {
          "output_type": "stream",
          "text": [
            "/usr/local/lib/python3.6/dist-packages/ipykernel_launcher.py:4: SettingWithCopyWarning: \n",
            "A value is trying to be set on a copy of a slice from a DataFrame\n",
            "\n",
            "See the caveats in the documentation: https://pandas.pydata.org/pandas-docs/stable/user_guide/indexing.html#returning-a-view-versus-a-copy\n",
            "  after removing the cwd from sys.path.\n",
            "/usr/local/lib/python3.6/dist-packages/pandas/core/generic.py:8765: SettingWithCopyWarning: \n",
            "A value is trying to be set on a copy of a slice from a DataFrame\n",
            "\n",
            "See the caveats in the documentation: https://pandas.pydata.org/pandas-docs/stable/user_guide/indexing.html#returning-a-view-versus-a-copy\n",
            "  self._update_inplace(new_data)\n"
          ],
          "name": "stderr"
        }
      ]
    },
    {
      "cell_type": "code",
      "metadata": {
        "id": "X71C8ZOITqD2",
        "colab_type": "code",
        "outputId": "3d0210b3-650b-4bfa-8d58-e57cced4580d",
        "colab": {
          "base_uri": "https://localhost:8080/",
          "height": 119
        }
      },
      "source": [
        "melanoma_clean_ml_input['QUINTILE_2015'] = melanoma_clean_ml_input['QUINTILE_2015'].astype('int')"
      ],
      "execution_count": 0,
      "outputs": [
        {
          "output_type": "stream",
          "text": [
            "/usr/local/lib/python3.6/dist-packages/ipykernel_launcher.py:1: SettingWithCopyWarning: \n",
            "A value is trying to be set on a copy of a slice from a DataFrame.\n",
            "Try using .loc[row_indexer,col_indexer] = value instead\n",
            "\n",
            "See the caveats in the documentation: https://pandas.pydata.org/pandas-docs/stable/user_guide/indexing.html#returning-a-view-versus-a-copy\n",
            "  \"\"\"Entry point for launching an IPython kernel.\n"
          ],
          "name": "stderr"
        }
      ]
    },
    {
      "cell_type": "code",
      "metadata": {
        "id": "Eaj4MWW7OGZx",
        "colab_type": "code",
        "outputId": "bfe074e5-8c9d-4403-e261-c078a62dae49",
        "colab": {
          "base_uri": "https://localhost:8080/",
          "height": 119
        }
      },
      "source": [
        "melanoma_clean_ml_input[[\"ethnicity_band\",\"age_group\",\"HISTOLOGY_CODED\",\"SITE_ICD10_O2\",\"MORPH_ICD10_O2\",\"BEHAVIOUR_ICD10_O2\",\"GRADE\",\"SEX\",\"CLARKS\"]] = melanoma_clean_ml_input[[\"ethnicity_band\",\"age_group\",\"HISTOLOGY_CODED\",\"SITE_ICD10_O2\",\"MORPH_ICD10_O2\",\"BEHAVIOUR_ICD10_O2\",\"GRADE\",\"SEX\",\"CLARKS\"]].astype('str')"
      ],
      "execution_count": 0,
      "outputs": [
        {
          "output_type": "stream",
          "text": [
            "/usr/local/lib/python3.6/dist-packages/pandas/core/frame.py:2963: SettingWithCopyWarning: \n",
            "A value is trying to be set on a copy of a slice from a DataFrame.\n",
            "Try using .loc[row_indexer,col_indexer] = value instead\n",
            "\n",
            "See the caveats in the documentation: https://pandas.pydata.org/pandas-docs/stable/user_guide/indexing.html#returning-a-view-versus-a-copy\n",
            "  self[k1] = value[k2]\n"
          ],
          "name": "stderr"
        }
      ]
    },
    {
      "cell_type": "code",
      "metadata": {
        "id": "8qj__gu0s7Dl",
        "colab_type": "code",
        "colab": {}
      },
      "source": [
        "catCols=[\"ethnicity_band\",\"age_group\",\"HISTOLOGY_CODED\",\"SITE_ICD10_O2\",\"MORPH_ICD10_O2\",\"BEHAVIOUR_ICD10_O2\",\"GRADE\",\"SEX\",\"CLARKS\"]"
      ],
      "execution_count": 0,
      "outputs": []
    },
    {
      "cell_type": "code",
      "metadata": {
        "id": "KQo36QOaOTBl",
        "colab_type": "code",
        "outputId": "3cce43ce-cf80-4ff3-f69a-22b45d455337",
        "colab": {
          "base_uri": "https://localhost:8080/",
          "height": 377
        }
      },
      "source": [
        "print(melanoma_clean_ml_input.dtypes)\n",
        "melanoma_clean_ml_input[catCols].describe()"
      ],
      "execution_count": 0,
      "outputs": [
        {
          "output_type": "stream",
          "text": [
            "BRESLOW               float64\n",
            "ethnicity_band         object\n",
            "age_group              object\n",
            "HISTOLOGY_CODED        object\n",
            "SEX                    object\n",
            "SITE_ICD10_O2          object\n",
            "MORPH_ICD10_O2         object\n",
            "BEHAVIOUR_ICD10_O2     object\n",
            "GRADE                  object\n",
            "QUINTILE_2015           int64\n",
            "CLARKS                 object\n",
            "dtype: object\n"
          ],
          "name": "stdout"
        },
        {
          "output_type": "execute_result",
          "data": {
            "text/html": [
              "<div>\n",
              "<style scoped>\n",
              "    .dataframe tbody tr th:only-of-type {\n",
              "        vertical-align: middle;\n",
              "    }\n",
              "\n",
              "    .dataframe tbody tr th {\n",
              "        vertical-align: top;\n",
              "    }\n",
              "\n",
              "    .dataframe thead th {\n",
              "        text-align: right;\n",
              "    }\n",
              "</style>\n",
              "<table border=\"1\" class=\"dataframe\">\n",
              "  <thead>\n",
              "    <tr style=\"text-align: right;\">\n",
              "      <th></th>\n",
              "      <th>ethnicity_band</th>\n",
              "      <th>age_group</th>\n",
              "      <th>HISTOLOGY_CODED</th>\n",
              "      <th>SITE_ICD10_O2</th>\n",
              "      <th>MORPH_ICD10_O2</th>\n",
              "      <th>BEHAVIOUR_ICD10_O2</th>\n",
              "      <th>GRADE</th>\n",
              "      <th>SEX</th>\n",
              "      <th>CLARKS</th>\n",
              "    </tr>\n",
              "  </thead>\n",
              "  <tbody>\n",
              "    <tr>\n",
              "      <th>count</th>\n",
              "      <td>30842</td>\n",
              "      <td>30842</td>\n",
              "      <td>30842</td>\n",
              "      <td>30842</td>\n",
              "      <td>30842</td>\n",
              "      <td>30842</td>\n",
              "      <td>30842</td>\n",
              "      <td>30842</td>\n",
              "      <td>30842</td>\n",
              "    </tr>\n",
              "    <tr>\n",
              "      <th>unique</th>\n",
              "      <td>3</td>\n",
              "      <td>3</td>\n",
              "      <td>25</td>\n",
              "      <td>10</td>\n",
              "      <td>19</td>\n",
              "      <td>3</td>\n",
              "      <td>5</td>\n",
              "      <td>2</td>\n",
              "      <td>5</td>\n",
              "    </tr>\n",
              "    <tr>\n",
              "      <th>top</th>\n",
              "      <td>White</td>\n",
              "      <td>45-69</td>\n",
              "      <td>87433.0</td>\n",
              "      <td>C435</td>\n",
              "      <td>8743.0</td>\n",
              "      <td>3.0</td>\n",
              "      <td>GX</td>\n",
              "      <td>2</td>\n",
              "      <td>4.0</td>\n",
              "    </tr>\n",
              "    <tr>\n",
              "      <th>freq</th>\n",
              "      <td>20445</td>\n",
              "      <td>14374</td>\n",
              "      <td>17470</td>\n",
              "      <td>9226</td>\n",
              "      <td>17500</td>\n",
              "      <td>30788</td>\n",
              "      <td>30677</td>\n",
              "      <td>17008</td>\n",
              "      <td>10535</td>\n",
              "    </tr>\n",
              "  </tbody>\n",
              "</table>\n",
              "</div>"
            ],
            "text/plain": [
              "       ethnicity_band age_group HISTOLOGY_CODED  ...  GRADE    SEX CLARKS\n",
              "count           30842     30842           30842  ...  30842  30842  30842\n",
              "unique              3         3              25  ...      5      2      5\n",
              "top             White     45-69         87433.0  ...     GX      2    4.0\n",
              "freq            20445     14374           17470  ...  30677  17008  10535\n",
              "\n",
              "[4 rows x 9 columns]"
            ]
          },
          "metadata": {
            "tags": []
          },
          "execution_count": 184
        }
      ]
    },
    {
      "cell_type": "code",
      "metadata": {
        "id": "r2GG_GqLQdbf",
        "colab_type": "code",
        "colab": {}
      },
      "source": [
        ""
      ],
      "execution_count": 0,
      "outputs": []
    },
    {
      "cell_type": "code",
      "metadata": {
        "id": "1gLvCaCWsJhD",
        "colab_type": "code",
        "outputId": "b96375f1-5028-4fe6-d73d-1ac8d8b2256f",
        "colab": {
          "base_uri": "https://localhost:8080/",
          "height": 297
        }
      },
      "source": [
        "# One approach to encode labels\n",
        "melanoma_clean_ml_input_cats = pd.DataFrame({col: melanoma_clean_ml_input[col].astype('category').cat.codes for col in melanoma_clean_ml_input[catCols]}, index=melanoma_clean_ml_input.index)\n",
        "melanoma_clean_ml_input_cats.describe()"
      ],
      "execution_count": 0,
      "outputs": [
        {
          "output_type": "execute_result",
          "data": {
            "text/html": [
              "<div>\n",
              "<style scoped>\n",
              "    .dataframe tbody tr th:only-of-type {\n",
              "        vertical-align: middle;\n",
              "    }\n",
              "\n",
              "    .dataframe tbody tr th {\n",
              "        vertical-align: top;\n",
              "    }\n",
              "\n",
              "    .dataframe thead th {\n",
              "        text-align: right;\n",
              "    }\n",
              "</style>\n",
              "<table border=\"1\" class=\"dataframe\">\n",
              "  <thead>\n",
              "    <tr style=\"text-align: right;\">\n",
              "      <th></th>\n",
              "      <th>ethnicity_band</th>\n",
              "      <th>age_group</th>\n",
              "      <th>HISTOLOGY_CODED</th>\n",
              "      <th>SITE_ICD10_O2</th>\n",
              "      <th>MORPH_ICD10_O2</th>\n",
              "      <th>BEHAVIOUR_ICD10_O2</th>\n",
              "      <th>GRADE</th>\n",
              "      <th>SEX</th>\n",
              "      <th>CLARKS</th>\n",
              "    </tr>\n",
              "  </thead>\n",
              "  <tbody>\n",
              "    <tr>\n",
              "      <th>count</th>\n",
              "      <td>30842.000000</td>\n",
              "      <td>30842.000000</td>\n",
              "      <td>30842.000000</td>\n",
              "      <td>30842.000000</td>\n",
              "      <td>30842.000000</td>\n",
              "      <td>30842.000000</td>\n",
              "      <td>30842.000000</td>\n",
              "      <td>30842.000000</td>\n",
              "      <td>30842.000000</td>\n",
              "    </tr>\n",
              "    <tr>\n",
              "      <th>mean</th>\n",
              "      <td>1.405745</td>\n",
              "      <td>0.769211</td>\n",
              "      <td>11.164581</td>\n",
              "      <td>5.549802</td>\n",
              "      <td>8.321088</td>\n",
              "      <td>0.001783</td>\n",
              "      <td>3.986966</td>\n",
              "      <td>0.551456</td>\n",
              "      <td>2.114519</td>\n",
              "    </tr>\n",
              "    <tr>\n",
              "      <th>std</th>\n",
              "      <td>0.869160</td>\n",
              "      <td>0.805030</td>\n",
              "      <td>5.292172</td>\n",
              "      <td>1.464627</td>\n",
              "      <td>3.684588</td>\n",
              "      <td>0.042954</td>\n",
              "      <td>0.189093</td>\n",
              "      <td>0.497353</td>\n",
              "      <td>0.906825</td>\n",
              "    </tr>\n",
              "    <tr>\n",
              "      <th>min</th>\n",
              "      <td>0.000000</td>\n",
              "      <td>0.000000</td>\n",
              "      <td>0.000000</td>\n",
              "      <td>0.000000</td>\n",
              "      <td>0.000000</td>\n",
              "      <td>0.000000</td>\n",
              "      <td>0.000000</td>\n",
              "      <td>0.000000</td>\n",
              "      <td>0.000000</td>\n",
              "    </tr>\n",
              "    <tr>\n",
              "      <th>25%</th>\n",
              "      <td>0.000000</td>\n",
              "      <td>0.000000</td>\n",
              "      <td>6.000000</td>\n",
              "      <td>5.000000</td>\n",
              "      <td>4.000000</td>\n",
              "      <td>0.000000</td>\n",
              "      <td>4.000000</td>\n",
              "      <td>0.000000</td>\n",
              "      <td>1.000000</td>\n",
              "    </tr>\n",
              "    <tr>\n",
              "      <th>50%</th>\n",
              "      <td>2.000000</td>\n",
              "      <td>1.000000</td>\n",
              "      <td>15.000000</td>\n",
              "      <td>6.000000</td>\n",
              "      <td>11.000000</td>\n",
              "      <td>0.000000</td>\n",
              "      <td>4.000000</td>\n",
              "      <td>1.000000</td>\n",
              "      <td>2.000000</td>\n",
              "    </tr>\n",
              "    <tr>\n",
              "      <th>75%</th>\n",
              "      <td>2.000000</td>\n",
              "      <td>1.000000</td>\n",
              "      <td>15.000000</td>\n",
              "      <td>7.000000</td>\n",
              "      <td>11.000000</td>\n",
              "      <td>0.000000</td>\n",
              "      <td>4.000000</td>\n",
              "      <td>1.000000</td>\n",
              "      <td>3.000000</td>\n",
              "    </tr>\n",
              "    <tr>\n",
              "      <th>max</th>\n",
              "      <td>2.000000</td>\n",
              "      <td>2.000000</td>\n",
              "      <td>24.000000</td>\n",
              "      <td>9.000000</td>\n",
              "      <td>18.000000</td>\n",
              "      <td>2.000000</td>\n",
              "      <td>4.000000</td>\n",
              "      <td>1.000000</td>\n",
              "      <td>4.000000</td>\n",
              "    </tr>\n",
              "  </tbody>\n",
              "</table>\n",
              "</div>"
            ],
            "text/plain": [
              "       ethnicity_band     age_group  ...           SEX        CLARKS\n",
              "count    30842.000000  30842.000000  ...  30842.000000  30842.000000\n",
              "mean         1.405745      0.769211  ...      0.551456      2.114519\n",
              "std          0.869160      0.805030  ...      0.497353      0.906825\n",
              "min          0.000000      0.000000  ...      0.000000      0.000000\n",
              "25%          0.000000      0.000000  ...      0.000000      1.000000\n",
              "50%          2.000000      1.000000  ...      1.000000      2.000000\n",
              "75%          2.000000      1.000000  ...      1.000000      3.000000\n",
              "max          2.000000      2.000000  ...      1.000000      4.000000\n",
              "\n",
              "[8 rows x 9 columns]"
            ]
          },
          "metadata": {
            "tags": []
          },
          "execution_count": 189
        }
      ]
    },
    {
      "cell_type": "code",
      "metadata": {
        "id": "6OedXLaPqKRh",
        "colab_type": "code",
        "colab": {}
      },
      "source": [
        "# Approach 2: hot encoding\n",
        "hotencodeThis=[\"ethnicity_band\",\"age_group\",\"HISTOLOGY_CODED\",\"SITE_ICD10_O2\",\"MORPH_ICD10_O2\",\"BEHAVIOUR_ICD10_O2\",\"GRADE\",\"SEX\"]"
      ],
      "execution_count": 0,
      "outputs": []
    },
    {
      "cell_type": "code",
      "metadata": {
        "id": "C9o3lZmaQb--",
        "colab_type": "code",
        "outputId": "f4351405-ef84-4fad-b916-3e212c3093ea",
        "colab": {
          "base_uri": "https://localhost:8080/",
          "height": 173
        }
      },
      "source": [
        "melanoma_clean_ml_input[hotencodeThis].describe()"
      ],
      "execution_count": 0,
      "outputs": [
        {
          "output_type": "execute_result",
          "data": {
            "text/html": [
              "<div>\n",
              "<style scoped>\n",
              "    .dataframe tbody tr th:only-of-type {\n",
              "        vertical-align: middle;\n",
              "    }\n",
              "\n",
              "    .dataframe tbody tr th {\n",
              "        vertical-align: top;\n",
              "    }\n",
              "\n",
              "    .dataframe thead th {\n",
              "        text-align: right;\n",
              "    }\n",
              "</style>\n",
              "<table border=\"1\" class=\"dataframe\">\n",
              "  <thead>\n",
              "    <tr style=\"text-align: right;\">\n",
              "      <th></th>\n",
              "      <th>ethnicity_band</th>\n",
              "      <th>age_group</th>\n",
              "      <th>HISTOLOGY_CODED</th>\n",
              "      <th>SITE_ICD10_O2</th>\n",
              "      <th>MORPH_ICD10_O2</th>\n",
              "      <th>BEHAVIOUR_ICD10_O2</th>\n",
              "      <th>GRADE</th>\n",
              "      <th>SEX</th>\n",
              "    </tr>\n",
              "  </thead>\n",
              "  <tbody>\n",
              "    <tr>\n",
              "      <th>count</th>\n",
              "      <td>30842</td>\n",
              "      <td>30842</td>\n",
              "      <td>30842</td>\n",
              "      <td>30842</td>\n",
              "      <td>30842</td>\n",
              "      <td>30842</td>\n",
              "      <td>30842</td>\n",
              "      <td>30842</td>\n",
              "    </tr>\n",
              "    <tr>\n",
              "      <th>unique</th>\n",
              "      <td>3</td>\n",
              "      <td>3</td>\n",
              "      <td>25</td>\n",
              "      <td>10</td>\n",
              "      <td>19</td>\n",
              "      <td>3</td>\n",
              "      <td>5</td>\n",
              "      <td>2</td>\n",
              "    </tr>\n",
              "    <tr>\n",
              "      <th>top</th>\n",
              "      <td>White</td>\n",
              "      <td>45-69</td>\n",
              "      <td>87433.0</td>\n",
              "      <td>C435</td>\n",
              "      <td>8743.0</td>\n",
              "      <td>3.0</td>\n",
              "      <td>GX</td>\n",
              "      <td>2</td>\n",
              "    </tr>\n",
              "    <tr>\n",
              "      <th>freq</th>\n",
              "      <td>20445</td>\n",
              "      <td>14374</td>\n",
              "      <td>17470</td>\n",
              "      <td>9226</td>\n",
              "      <td>17500</td>\n",
              "      <td>30788</td>\n",
              "      <td>30677</td>\n",
              "      <td>17008</td>\n",
              "    </tr>\n",
              "  </tbody>\n",
              "</table>\n",
              "</div>"
            ],
            "text/plain": [
              "       ethnicity_band age_group  ...  GRADE    SEX\n",
              "count           30842     30842  ...  30842  30842\n",
              "unique              3         3  ...      5      2\n",
              "top             White     45-69  ...     GX      2\n",
              "freq            20445     14374  ...  30677  17008\n",
              "\n",
              "[4 rows x 8 columns]"
            ]
          },
          "metadata": {
            "tags": []
          },
          "execution_count": 192
        }
      ]
    },
    {
      "cell_type": "code",
      "metadata": {
        "id": "hPqMekUQvlox",
        "colab_type": "code",
        "outputId": "7e64efae-9d4a-4318-c416-000c9ba9d8ed",
        "colab": {
          "base_uri": "https://localhost:8080/",
          "height": 241
        }
      },
      "source": [
        "melanoma_clean_ml_input_onehot = pd.get_dummies(melanoma_clean_ml_input, columns=hotencodeThis, drop_first=False)\n",
        "melanoma_clean_ml_input_onehot.head()"
      ],
      "execution_count": 0,
      "outputs": [
        {
          "output_type": "execute_result",
          "data": {
            "text/html": [
              "<div>\n",
              "<style scoped>\n",
              "    .dataframe tbody tr th:only-of-type {\n",
              "        vertical-align: middle;\n",
              "    }\n",
              "\n",
              "    .dataframe tbody tr th {\n",
              "        vertical-align: top;\n",
              "    }\n",
              "\n",
              "    .dataframe thead th {\n",
              "        text-align: right;\n",
              "    }\n",
              "</style>\n",
              "<table border=\"1\" class=\"dataframe\">\n",
              "  <thead>\n",
              "    <tr style=\"text-align: right;\">\n",
              "      <th></th>\n",
              "      <th>BRESLOW</th>\n",
              "      <th>QUINTILE_2015</th>\n",
              "      <th>CLARKS</th>\n",
              "      <th>ethnicity_band_Non-White</th>\n",
              "      <th>ethnicity_band_Unknown</th>\n",
              "      <th>ethnicity_band_White</th>\n",
              "      <th>age_group_45-69</th>\n",
              "      <th>age_group_70+</th>\n",
              "      <th>age_group_&lt;45</th>\n",
              "      <th>HISTOLOGY_CODED_80323.0</th>\n",
              "      <th>HISTOLOGY_CODED_80703.0</th>\n",
              "      <th>HISTOLOGY_CODED_81433.0</th>\n",
              "      <th>HISTOLOGY_CODED_87203.0</th>\n",
              "      <th>HISTOLOGY_CODED_87205.0</th>\n",
              "      <th>HISTOLOGY_CODED_87209.0</th>\n",
              "      <th>HISTOLOGY_CODED_87213.0</th>\n",
              "      <th>HISTOLOGY_CODED_87223.0</th>\n",
              "      <th>HISTOLOGY_CODED_87233.0</th>\n",
              "      <th>HISTOLOGY_CODED_87235.0</th>\n",
              "      <th>HISTOLOGY_CODED_87303.0</th>\n",
              "      <th>HISTOLOGY_CODED_87403.0</th>\n",
              "      <th>HISTOLOGY_CODED_87413.0</th>\n",
              "      <th>HISTOLOGY_CODED_87423.0</th>\n",
              "      <th>HISTOLOGY_CODED_87425.0</th>\n",
              "      <th>HISTOLOGY_CODED_87433.0</th>\n",
              "      <th>HISTOLOGY_CODED_87435.0</th>\n",
              "      <th>HISTOLOGY_CODED_87443.0</th>\n",
              "      <th>HISTOLOGY_CODED_87445.0</th>\n",
              "      <th>HISTOLOGY_CODED_87453.0</th>\n",
              "      <th>HISTOLOGY_CODED_87613.0</th>\n",
              "      <th>HISTOLOGY_CODED_87703.0</th>\n",
              "      <th>HISTOLOGY_CODED_87713.0</th>\n",
              "      <th>HISTOLOGY_CODED_87723.0</th>\n",
              "      <th>HISTOLOGY_CODED_87803.0</th>\n",
              "      <th>SITE_ICD10_O2_C430</th>\n",
              "      <th>SITE_ICD10_O2_C431</th>\n",
              "      <th>SITE_ICD10_O2_C432</th>\n",
              "      <th>SITE_ICD10_O2_C433</th>\n",
              "      <th>SITE_ICD10_O2_C434</th>\n",
              "      <th>SITE_ICD10_O2_C435</th>\n",
              "      <th>SITE_ICD10_O2_C436</th>\n",
              "      <th>SITE_ICD10_O2_C437</th>\n",
              "      <th>SITE_ICD10_O2_C438</th>\n",
              "      <th>SITE_ICD10_O2_C439</th>\n",
              "      <th>MORPH_ICD10_O2_8032.0</th>\n",
              "      <th>MORPH_ICD10_O2_8070.0</th>\n",
              "      <th>MORPH_ICD10_O2_8143.0</th>\n",
              "      <th>MORPH_ICD10_O2_8720.0</th>\n",
              "      <th>MORPH_ICD10_O2_8721.0</th>\n",
              "      <th>MORPH_ICD10_O2_8722.0</th>\n",
              "      <th>MORPH_ICD10_O2_8723.0</th>\n",
              "      <th>MORPH_ICD10_O2_8730.0</th>\n",
              "      <th>MORPH_ICD10_O2_8740.0</th>\n",
              "      <th>MORPH_ICD10_O2_8741.0</th>\n",
              "      <th>MORPH_ICD10_O2_8742.0</th>\n",
              "      <th>MORPH_ICD10_O2_8743.0</th>\n",
              "      <th>MORPH_ICD10_O2_8744.0</th>\n",
              "      <th>MORPH_ICD10_O2_8745.0</th>\n",
              "      <th>MORPH_ICD10_O2_8761.0</th>\n",
              "      <th>MORPH_ICD10_O2_8770.0</th>\n",
              "      <th>MORPH_ICD10_O2_8771.0</th>\n",
              "      <th>MORPH_ICD10_O2_8772.0</th>\n",
              "      <th>MORPH_ICD10_O2_8780.0</th>\n",
              "      <th>BEHAVIOUR_ICD10_O2_3.0</th>\n",
              "      <th>BEHAVIOUR_ICD10_O2_5.0</th>\n",
              "      <th>BEHAVIOUR_ICD10_O2_9.0</th>\n",
              "      <th>GRADE_G1</th>\n",
              "      <th>GRADE_G2</th>\n",
              "      <th>GRADE_G3</th>\n",
              "      <th>GRADE_G4</th>\n",
              "      <th>GRADE_GX</th>\n",
              "      <th>SEX_1</th>\n",
              "      <th>SEX_2</th>\n",
              "    </tr>\n",
              "  </thead>\n",
              "  <tbody>\n",
              "    <tr>\n",
              "      <th>5</th>\n",
              "      <td>2.70</td>\n",
              "      <td>5</td>\n",
              "      <td>4.0</td>\n",
              "      <td>0</td>\n",
              "      <td>0</td>\n",
              "      <td>1</td>\n",
              "      <td>0</td>\n",
              "      <td>1</td>\n",
              "      <td>0</td>\n",
              "      <td>0</td>\n",
              "      <td>0</td>\n",
              "      <td>0</td>\n",
              "      <td>1</td>\n",
              "      <td>0</td>\n",
              "      <td>0</td>\n",
              "      <td>0</td>\n",
              "      <td>0</td>\n",
              "      <td>0</td>\n",
              "      <td>0</td>\n",
              "      <td>0</td>\n",
              "      <td>0</td>\n",
              "      <td>0</td>\n",
              "      <td>0</td>\n",
              "      <td>0</td>\n",
              "      <td>0</td>\n",
              "      <td>0</td>\n",
              "      <td>0</td>\n",
              "      <td>0</td>\n",
              "      <td>0</td>\n",
              "      <td>0</td>\n",
              "      <td>0</td>\n",
              "      <td>0</td>\n",
              "      <td>0</td>\n",
              "      <td>0</td>\n",
              "      <td>0</td>\n",
              "      <td>0</td>\n",
              "      <td>1</td>\n",
              "      <td>0</td>\n",
              "      <td>0</td>\n",
              "      <td>0</td>\n",
              "      <td>0</td>\n",
              "      <td>0</td>\n",
              "      <td>0</td>\n",
              "      <td>0</td>\n",
              "      <td>0</td>\n",
              "      <td>0</td>\n",
              "      <td>0</td>\n",
              "      <td>1</td>\n",
              "      <td>0</td>\n",
              "      <td>0</td>\n",
              "      <td>0</td>\n",
              "      <td>0</td>\n",
              "      <td>0</td>\n",
              "      <td>0</td>\n",
              "      <td>0</td>\n",
              "      <td>0</td>\n",
              "      <td>0</td>\n",
              "      <td>0</td>\n",
              "      <td>0</td>\n",
              "      <td>0</td>\n",
              "      <td>0</td>\n",
              "      <td>0</td>\n",
              "      <td>0</td>\n",
              "      <td>1</td>\n",
              "      <td>0</td>\n",
              "      <td>0</td>\n",
              "      <td>0</td>\n",
              "      <td>0</td>\n",
              "      <td>0</td>\n",
              "      <td>0</td>\n",
              "      <td>1</td>\n",
              "      <td>1</td>\n",
              "      <td>0</td>\n",
              "    </tr>\n",
              "    <tr>\n",
              "      <th>10</th>\n",
              "      <td>0.80</td>\n",
              "      <td>3</td>\n",
              "      <td>3.0</td>\n",
              "      <td>0</td>\n",
              "      <td>0</td>\n",
              "      <td>1</td>\n",
              "      <td>1</td>\n",
              "      <td>0</td>\n",
              "      <td>0</td>\n",
              "      <td>0</td>\n",
              "      <td>0</td>\n",
              "      <td>0</td>\n",
              "      <td>0</td>\n",
              "      <td>0</td>\n",
              "      <td>0</td>\n",
              "      <td>0</td>\n",
              "      <td>0</td>\n",
              "      <td>0</td>\n",
              "      <td>0</td>\n",
              "      <td>0</td>\n",
              "      <td>0</td>\n",
              "      <td>0</td>\n",
              "      <td>0</td>\n",
              "      <td>0</td>\n",
              "      <td>1</td>\n",
              "      <td>0</td>\n",
              "      <td>0</td>\n",
              "      <td>0</td>\n",
              "      <td>0</td>\n",
              "      <td>0</td>\n",
              "      <td>0</td>\n",
              "      <td>0</td>\n",
              "      <td>0</td>\n",
              "      <td>0</td>\n",
              "      <td>0</td>\n",
              "      <td>0</td>\n",
              "      <td>0</td>\n",
              "      <td>0</td>\n",
              "      <td>0</td>\n",
              "      <td>1</td>\n",
              "      <td>0</td>\n",
              "      <td>0</td>\n",
              "      <td>0</td>\n",
              "      <td>0</td>\n",
              "      <td>0</td>\n",
              "      <td>0</td>\n",
              "      <td>0</td>\n",
              "      <td>0</td>\n",
              "      <td>0</td>\n",
              "      <td>0</td>\n",
              "      <td>0</td>\n",
              "      <td>0</td>\n",
              "      <td>0</td>\n",
              "      <td>0</td>\n",
              "      <td>0</td>\n",
              "      <td>1</td>\n",
              "      <td>0</td>\n",
              "      <td>0</td>\n",
              "      <td>0</td>\n",
              "      <td>0</td>\n",
              "      <td>0</td>\n",
              "      <td>0</td>\n",
              "      <td>0</td>\n",
              "      <td>1</td>\n",
              "      <td>0</td>\n",
              "      <td>0</td>\n",
              "      <td>0</td>\n",
              "      <td>0</td>\n",
              "      <td>0</td>\n",
              "      <td>0</td>\n",
              "      <td>1</td>\n",
              "      <td>1</td>\n",
              "      <td>0</td>\n",
              "    </tr>\n",
              "    <tr>\n",
              "      <th>11</th>\n",
              "      <td>1.30</td>\n",
              "      <td>1</td>\n",
              "      <td>4.0</td>\n",
              "      <td>1</td>\n",
              "      <td>0</td>\n",
              "      <td>0</td>\n",
              "      <td>1</td>\n",
              "      <td>0</td>\n",
              "      <td>0</td>\n",
              "      <td>0</td>\n",
              "      <td>0</td>\n",
              "      <td>0</td>\n",
              "      <td>0</td>\n",
              "      <td>0</td>\n",
              "      <td>0</td>\n",
              "      <td>0</td>\n",
              "      <td>0</td>\n",
              "      <td>0</td>\n",
              "      <td>0</td>\n",
              "      <td>0</td>\n",
              "      <td>0</td>\n",
              "      <td>0</td>\n",
              "      <td>0</td>\n",
              "      <td>0</td>\n",
              "      <td>1</td>\n",
              "      <td>0</td>\n",
              "      <td>0</td>\n",
              "      <td>0</td>\n",
              "      <td>0</td>\n",
              "      <td>0</td>\n",
              "      <td>0</td>\n",
              "      <td>0</td>\n",
              "      <td>0</td>\n",
              "      <td>0</td>\n",
              "      <td>0</td>\n",
              "      <td>0</td>\n",
              "      <td>0</td>\n",
              "      <td>0</td>\n",
              "      <td>0</td>\n",
              "      <td>1</td>\n",
              "      <td>0</td>\n",
              "      <td>0</td>\n",
              "      <td>0</td>\n",
              "      <td>0</td>\n",
              "      <td>0</td>\n",
              "      <td>0</td>\n",
              "      <td>0</td>\n",
              "      <td>0</td>\n",
              "      <td>0</td>\n",
              "      <td>0</td>\n",
              "      <td>0</td>\n",
              "      <td>0</td>\n",
              "      <td>0</td>\n",
              "      <td>0</td>\n",
              "      <td>0</td>\n",
              "      <td>1</td>\n",
              "      <td>0</td>\n",
              "      <td>0</td>\n",
              "      <td>0</td>\n",
              "      <td>0</td>\n",
              "      <td>0</td>\n",
              "      <td>0</td>\n",
              "      <td>0</td>\n",
              "      <td>1</td>\n",
              "      <td>0</td>\n",
              "      <td>0</td>\n",
              "      <td>0</td>\n",
              "      <td>0</td>\n",
              "      <td>0</td>\n",
              "      <td>0</td>\n",
              "      <td>1</td>\n",
              "      <td>1</td>\n",
              "      <td>0</td>\n",
              "    </tr>\n",
              "    <tr>\n",
              "      <th>14</th>\n",
              "      <td>0.95</td>\n",
              "      <td>2</td>\n",
              "      <td>3.0</td>\n",
              "      <td>1</td>\n",
              "      <td>0</td>\n",
              "      <td>0</td>\n",
              "      <td>0</td>\n",
              "      <td>1</td>\n",
              "      <td>0</td>\n",
              "      <td>0</td>\n",
              "      <td>0</td>\n",
              "      <td>0</td>\n",
              "      <td>0</td>\n",
              "      <td>0</td>\n",
              "      <td>0</td>\n",
              "      <td>0</td>\n",
              "      <td>0</td>\n",
              "      <td>0</td>\n",
              "      <td>0</td>\n",
              "      <td>0</td>\n",
              "      <td>0</td>\n",
              "      <td>0</td>\n",
              "      <td>0</td>\n",
              "      <td>0</td>\n",
              "      <td>1</td>\n",
              "      <td>0</td>\n",
              "      <td>0</td>\n",
              "      <td>0</td>\n",
              "      <td>0</td>\n",
              "      <td>0</td>\n",
              "      <td>0</td>\n",
              "      <td>0</td>\n",
              "      <td>0</td>\n",
              "      <td>0</td>\n",
              "      <td>0</td>\n",
              "      <td>0</td>\n",
              "      <td>0</td>\n",
              "      <td>0</td>\n",
              "      <td>0</td>\n",
              "      <td>1</td>\n",
              "      <td>0</td>\n",
              "      <td>0</td>\n",
              "      <td>0</td>\n",
              "      <td>0</td>\n",
              "      <td>0</td>\n",
              "      <td>0</td>\n",
              "      <td>0</td>\n",
              "      <td>0</td>\n",
              "      <td>0</td>\n",
              "      <td>0</td>\n",
              "      <td>0</td>\n",
              "      <td>0</td>\n",
              "      <td>0</td>\n",
              "      <td>0</td>\n",
              "      <td>0</td>\n",
              "      <td>1</td>\n",
              "      <td>0</td>\n",
              "      <td>0</td>\n",
              "      <td>0</td>\n",
              "      <td>0</td>\n",
              "      <td>0</td>\n",
              "      <td>0</td>\n",
              "      <td>0</td>\n",
              "      <td>1</td>\n",
              "      <td>0</td>\n",
              "      <td>0</td>\n",
              "      <td>0</td>\n",
              "      <td>0</td>\n",
              "      <td>0</td>\n",
              "      <td>0</td>\n",
              "      <td>1</td>\n",
              "      <td>1</td>\n",
              "      <td>0</td>\n",
              "    </tr>\n",
              "    <tr>\n",
              "      <th>15</th>\n",
              "      <td>2.10</td>\n",
              "      <td>2</td>\n",
              "      <td>4.0</td>\n",
              "      <td>0</td>\n",
              "      <td>0</td>\n",
              "      <td>1</td>\n",
              "      <td>0</td>\n",
              "      <td>0</td>\n",
              "      <td>1</td>\n",
              "      <td>0</td>\n",
              "      <td>0</td>\n",
              "      <td>0</td>\n",
              "      <td>0</td>\n",
              "      <td>0</td>\n",
              "      <td>0</td>\n",
              "      <td>1</td>\n",
              "      <td>0</td>\n",
              "      <td>0</td>\n",
              "      <td>0</td>\n",
              "      <td>0</td>\n",
              "      <td>0</td>\n",
              "      <td>0</td>\n",
              "      <td>0</td>\n",
              "      <td>0</td>\n",
              "      <td>0</td>\n",
              "      <td>0</td>\n",
              "      <td>0</td>\n",
              "      <td>0</td>\n",
              "      <td>0</td>\n",
              "      <td>0</td>\n",
              "      <td>0</td>\n",
              "      <td>0</td>\n",
              "      <td>0</td>\n",
              "      <td>0</td>\n",
              "      <td>0</td>\n",
              "      <td>0</td>\n",
              "      <td>0</td>\n",
              "      <td>0</td>\n",
              "      <td>0</td>\n",
              "      <td>1</td>\n",
              "      <td>0</td>\n",
              "      <td>0</td>\n",
              "      <td>0</td>\n",
              "      <td>0</td>\n",
              "      <td>0</td>\n",
              "      <td>0</td>\n",
              "      <td>0</td>\n",
              "      <td>0</td>\n",
              "      <td>1</td>\n",
              "      <td>0</td>\n",
              "      <td>0</td>\n",
              "      <td>0</td>\n",
              "      <td>0</td>\n",
              "      <td>0</td>\n",
              "      <td>0</td>\n",
              "      <td>0</td>\n",
              "      <td>0</td>\n",
              "      <td>0</td>\n",
              "      <td>0</td>\n",
              "      <td>0</td>\n",
              "      <td>0</td>\n",
              "      <td>0</td>\n",
              "      <td>0</td>\n",
              "      <td>1</td>\n",
              "      <td>0</td>\n",
              "      <td>0</td>\n",
              "      <td>0</td>\n",
              "      <td>0</td>\n",
              "      <td>0</td>\n",
              "      <td>0</td>\n",
              "      <td>1</td>\n",
              "      <td>0</td>\n",
              "      <td>1</td>\n",
              "    </tr>\n",
              "  </tbody>\n",
              "</table>\n",
              "</div>"
            ],
            "text/plain": [
              "    BRESLOW  QUINTILE_2015 CLARKS  ...  GRADE_GX  SEX_1  SEX_2\n",
              "5      2.70              5    4.0  ...         1      1      0\n",
              "10     0.80              3    3.0  ...         1      1      0\n",
              "11     1.30              1    4.0  ...         1      1      0\n",
              "14     0.95              2    3.0  ...         1      1      0\n",
              "15     2.10              2    4.0  ...         1      0      1\n",
              "\n",
              "[5 rows x 73 columns]"
            ]
          },
          "metadata": {
            "tags": []
          },
          "execution_count": 194
        }
      ]
    },
    {
      "cell_type": "code",
      "metadata": {
        "id": "PlXNzyKmv5fF",
        "colab_type": "code",
        "outputId": "68206428-0d13-41b1-dec2-d677477f2c71",
        "colab": {
          "base_uri": "https://localhost:8080/",
          "height": 34
        }
      },
      "source": [
        "melanoma_clean_ml_input_onehot.shape[0] == melanoma_clean_ml_input.shape[0]"
      ],
      "execution_count": 0,
      "outputs": [
        {
          "output_type": "execute_result",
          "data": {
            "text/plain": [
              "True"
            ]
          },
          "metadata": {
            "tags": []
          },
          "execution_count": 195
        }
      ]
    },
    {
      "cell_type": "code",
      "metadata": {
        "id": "qJiIqZW8A1qs",
        "colab_type": "code",
        "colab": {}
      },
      "source": [
        "## Divide predictors and labels\n",
        "X=melanoma_clean_ml_input_onehot.loc[:,~melanoma_clean_ml_input_onehot.columns.str.contains('CLARKS',case =False)]\n",
        "y=melanoma_clean_ml_input_onehot.loc[:,melanoma_clean_ml_input_onehot.columns.str.contains('CLARKS',case =False)]\n"
      ],
      "execution_count": 0,
      "outputs": []
    },
    {
      "cell_type": "code",
      "metadata": {
        "id": "ku16Z2CpwGzA",
        "colab_type": "code",
        "colab": {}
      },
      "source": [
        "from sklearn.model_selection import train_test_split"
      ],
      "execution_count": 0,
      "outputs": []
    },
    {
      "cell_type": "code",
      "metadata": {
        "id": "k5DzOaxZDQv_",
        "colab_type": "code",
        "colab": {}
      },
      "source": [
        "### ASYD: always split your data\n",
        "X_train, X_test, y_train, y_test = train_test_split(X, y, train_size=0.8, random_state=1)"
      ],
      "execution_count": 0,
      "outputs": []
    },
    {
      "cell_type": "code",
      "metadata": {
        "id": "XNQUx1SCEELM",
        "colab_type": "code",
        "outputId": "090c4229-8520-49ed-f120-42c26a9d6fa4",
        "colab": {
          "base_uri": "https://localhost:8080/",
          "height": 34
        }
      },
      "source": [
        "from sklearn.linear_model import Perceptron\n",
        "perceptron = Perceptron()\n",
        "perceptron.fit(X_train, y_train.values.ravel())\n",
        "acc_perceptron = round(perceptron.score(X_test, y_test) * 100, 2)\n",
        "acc_perceptron"
      ],
      "execution_count": 0,
      "outputs": [
        {
          "output_type": "execute_result",
          "data": {
            "text/plain": [
              "29.16"
            ]
          },
          "metadata": {
            "tags": []
          },
          "execution_count": 239
        }
      ]
    },
    {
      "cell_type": "code",
      "metadata": {
        "id": "JxjnlHyKDX4a",
        "colab_type": "code",
        "outputId": "f28e1ae8-814b-4ac6-9057-2c3ab1e7e9fb",
        "colab": {
          "base_uri": "https://localhost:8080/",
          "height": 34
        }
      },
      "source": [
        "from sklearn.ensemble import RandomForestClassifier\n",
        "random_forest = RandomForestClassifier(n_estimators=100)\n",
        "random_forest.fit(X_train, y_train.values.ravel())\n",
        "acc_random_forest = round(random_forest.score(X_test, y_test) * 100, 2)\n",
        "acc_random_forest"
      ],
      "execution_count": 0,
      "outputs": [
        {
          "output_type": "execute_result",
          "data": {
            "text/plain": [
              "53.01"
            ]
          },
          "metadata": {
            "tags": []
          },
          "execution_count": 238
        }
      ]
    },
    {
      "cell_type": "code",
      "metadata": {
        "id": "FUTzLx07Dao0",
        "colab_type": "code",
        "outputId": "b63b7c6c-6894-4121-d2c3-52229db8bff9",
        "colab": {
          "base_uri": "https://localhost:8080/",
          "height": 34
        }
      },
      "source": [
        "from sklearn.ensemble import RandomForestClassifier\n",
        "random_forest = RandomForestClassifier(n_estimators=500)\n",
        "random_forest.fit(X_train, y_train.values.ravel())\n",
        "acc_random_forest = round(random_forest.score(X_test, y_test) * 100, 2)\n",
        "acc_random_forest"
      ],
      "execution_count": 0,
      "outputs": [
        {
          "output_type": "execute_result",
          "data": {
            "text/plain": [
              "53.53"
            ]
          },
          "metadata": {
            "tags": []
          },
          "execution_count": 241
        }
      ]
    },
    {
      "cell_type": "code",
      "metadata": {
        "id": "2hbQYUPwEVSx",
        "colab_type": "code",
        "colab": {}
      },
      "source": [
        ""
      ],
      "execution_count": 0,
      "outputs": []
    }
  ]
}